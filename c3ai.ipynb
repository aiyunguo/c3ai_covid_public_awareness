{
  "nbformat": 4,
  "nbformat_minor": 0,
  "metadata": {
    "colab": {
      "name": "c3ai.ipynb",
      "provenance": [],
      "collapsed_sections": []
    },
    "kernelspec": {
      "display_name": "Python 3",
      "name": "python3"
    }
  },
  "cells": [
    {
      "cell_type": "code",
      "metadata": {
        "colab": {
          "base_uri": "https://localhost:8080/"
        },
        "id": "moS3xZFzPs3P",
        "outputId": "8c84c870-e9eb-48e1-abd1-ad42fe25c846"
      },
      "source": [
        "# run this only if you don't have the csv data\n",
        "!git clone https://github.com/swayable/covid-19-data\n",
        "!git clone https://github.com/OxCGRT/covid-policy-tracker\n"
      ],
      "execution_count": null,
      "outputs": [
        {
          "output_type": "stream",
          "text": [
            "Cloning into 'covid-19-data'...\n",
            "remote: Enumerating objects: 22, done.\u001b[K\n",
            "remote: Counting objects: 100% (22/22), done.\u001b[K\n",
            "remote: Compressing objects: 100% (21/21), done.\u001b[K\n",
            "remote: Total 22 (delta 6), reused 4 (delta 0), pack-reused 0\u001b[K\n",
            "Unpacking objects: 100% (22/22), done.\n",
            "Cloning into 'covid-policy-tracker'...\n",
            "remote: Enumerating objects: 14, done.\u001b[K\n",
            "remote: Counting objects: 100% (14/14), done.\u001b[K\n",
            "remote: Compressing objects: 100% (9/9), done.\u001b[K\n",
            "remote: Total 61941 (delta 7), reused 10 (delta 5), pack-reused 61927\u001b[K\n",
            "Receiving objects: 100% (61941/61941), 4.51 GiB | 28.06 MiB/s, done.\n",
            "Resolving deltas: 100% (28404/28404), done.\n",
            "Checking out files: 100% (493/493), done.\n"
          ],
          "name": "stdout"
        }
      ]
    },
    {
      "cell_type": "code",
      "metadata": {
        "id": "JfTfsAW5Pu7i"
      },
      "source": [
        "# add import statements here\n",
        "import pandas as pd\n",
        "import matplotlib.pyplot as plt"
      ],
      "execution_count": null,
      "outputs": []
    },
    {
      "cell_type": "code",
      "metadata": {
        "colab": {
          "base_uri": "https://localhost:8080/"
        },
        "id": "y_R83kr8Pu__",
        "outputId": "2b667394-6202-4686-a5ac-cf5bf05c3faf"
      },
      "source": [
        "survey = pd.read_csv('/content/covid-19-data/6-15-20.csv')\n",
        "#survey.drop(columns=['Unnamed: 0', 'CoronavirusEmployment', 'Education_Alt2', 'Ethnicity', 'Gender', 'Religion_Alt1', 'Religiosity_Alt2', 'PoliticalBeliefsNoOp', 'PoliticalPartyNoOp', 'CoronavirusLocalCommunity', 'CoronavirusSupportSystem', 'CoronavirusSymptomSelect', 'CoronavirusWhenShouldReopen', 'CoronavirusUnderstanding4', 'startTime', 'ZipCode'], inplace=True)\n",
        "survey.dropna(inplace=True)\n",
        "\n",
        "survey.shape"
      ],
      "execution_count": null,
      "outputs": [
        {
          "output_type": "execute_result",
          "data": {
            "text/plain": [
              "(16980, 28)"
            ]
          },
          "metadata": {
            "tags": []
          },
          "execution_count": 3
        }
      ]
    },
    {
      "cell_type": "code",
      "metadata": {
        "colab": {
          "base_uri": "https://localhost:8080/"
        },
        "id": "9juXeyfvPvGa",
        "outputId": "5c51660a-7839-45e8-b97e-1d58ef00f0cf"
      },
      "source": [
        "pd.set_option('display.max_columns', None)\n",
        "survey.head"
      ],
      "execution_count": null,
      "outputs": [
        {
          "output_type": "execute_result",
          "data": {
            "text/plain": [
              "<bound method NDFrame.head of        Unnamed: 0  AnnualHouseholdIncome  BirthYear2020  CoronavirusConcern2  \\\n",
              "4000         4000             71000.0000           2002                  8.6   \n",
              "4004         4004            250000.0000           1990                 10.0   \n",
              "4012         4012             68000.0000           1993                  6.3   \n",
              "4016         4016            125000.0000           1980                  8.4   \n",
              "4017         4017             62000.0000           1998                  8.0   \n",
              "...           ...                    ...            ...                  ...   \n",
              "33164       33164              6493.0000           1998                 10.0   \n",
              "33167       33167              4444.6778           1994                 10.0   \n",
              "33168       33168            250000.0000           1998                  9.9   \n",
              "33170       33170            160000.0000           1970                 10.0   \n",
              "33172       33172             22000.0000           1943                  5.3   \n",
              "\n",
              "          CoronavirusEmployment  CoronavirusIntent_Mask  \\\n",
              "4000               ['was-full']                    71.0   \n",
              "4004            ['was-jobless']                    73.0   \n",
              "4012   ['now-full', 'was-full']                   100.0   \n",
              "4016   ['was-full', 'now-full']                    67.0   \n",
              "4017               ['now-part']                   100.0   \n",
              "...                         ...                     ...   \n",
              "33164              ['now-part']                   100.0   \n",
              "33167              ['was-full']                   100.0   \n",
              "33168              ['was-full']                   100.0   \n",
              "33170  ['was-full', 'now-full']                    97.0   \n",
              "33172           ['was-retired']                    97.0   \n",
              "\n",
              "       CoronavirusIntent_SixFeet  CoronavirusIntent_StayHome  \\\n",
              "4000                          42                          14   \n",
              "4004                          77                          77   \n",
              "4012                         100                         100   \n",
              "4016                          53                          56   \n",
              "4017                         100                          75   \n",
              "...                          ...                         ...   \n",
              "33164                        100                         100   \n",
              "33167                        100                         100   \n",
              "33168                        100                         100   \n",
              "33170                         98                          93   \n",
              "33172                         95                          90   \n",
              "\n",
              "       CoronavirusIntent_WashHands  CoronavirusLocalCommunity  \\\n",
              "4000                            93                        0.0   \n",
              "4004                            76                        2.0   \n",
              "4012                            75                        2.0   \n",
              "4016                            70                        2.0   \n",
              "4017                           100                        0.0   \n",
              "...                            ...                        ...   \n",
              "33164                          100                      749.0   \n",
              "33167                          100                        0.0   \n",
              "33168                          100                        2.0   \n",
              "33170                           98                        0.0   \n",
              "33172                           96                        0.0   \n",
              "\n",
              "                                CoronavirusSupportSystem  \\\n",
              "4000                         ['fam-friend', 'state-gov']   \n",
              "4004                                        ['employer']   \n",
              "4012                                      ['fam-friend']   \n",
              "4016                                      ['fam-friend']   \n",
              "4017                          ['employer', 'fam-friend']   \n",
              "...                                                  ...   \n",
              "33164  ['fam-friend', 'employer', 'religious', 'state...   \n",
              "33167                                     ['fam-friend']   \n",
              "33168                         ['fam-friend', 'employer']   \n",
              "33170                                     ['fam-friend']   \n",
              "33172                        ['fam-friend', 'religious']   \n",
              "\n",
              "                                CoronavirusSymptomSelect  \\\n",
              "4000                                            ['none']   \n",
              "4004   ['dry-cough', 'short-breath', 'diarrhea', 'mus...   \n",
              "4012                               ['nasal', 'headache']   \n",
              "4016   ['dry-cough', 'muscle-ache', 'nasal', 'headache']   \n",
              "4017                                            ['none']   \n",
              "...                                                  ...   \n",
              "33164                      ['dry-cough', 'short-breath']   \n",
              "33167  ['diarrhea', 'dry-cough', 'fever', 'headache',...   \n",
              "33168                                           ['none']   \n",
              "33170                                           ['none']   \n",
              "33172                                           ['none']   \n",
              "\n",
              "                             CoronavirusUnderstanding1  \\\n",
              "4000                             ['elderly-more-risk']   \n",
              "4004                           ['corona-only-elderly']   \n",
              "4012   ['elderly-more-risk', 'corona-all-hospitalize']   \n",
              "4016                             ['elderly-more-risk']   \n",
              "4017                                     ['none-true']   \n",
              "...                                                ...   \n",
              "33164                          ['corona-only-elderly']   \n",
              "33167                           ['young-invulnerable']   \n",
              "33168                            ['elderly-more-risk']   \n",
              "33170  ['elderly-more-risk', 'corona-all-hospitalize']   \n",
              "33172                            ['elderly-more-risk']   \n",
              "\n",
              "          CoronavirusUnderstanding2  \\\n",
              "4000           ['all-spread-covid']   \n",
              "4004    ['ethnicity-spreads-covid']   \n",
              "4012           ['all-spread-covid']   \n",
              "4016           ['all-spread-covid']   \n",
              "4017           ['all-spread-covid']   \n",
              "...                             ...   \n",
              "33164  ['non-natives-spread-covid']   \n",
              "33167   ['ethnicity-spreads-covid']   \n",
              "33168          ['all-spread-covid']   \n",
              "33170          ['all-spread-covid']   \n",
              "33172          ['all-spread-covid']   \n",
              "\n",
              "                        CoronavirusUnderstanding3 CoronavirusUnderstanding4  \\\n",
              "4000                      ['asymptomatic-spread']             three-percent   \n",
              "4004   ['only-sick-spread', 'infect-from-animal']             three-percent   \n",
              "4012                      ['asymptomatic-spread']                 one-in-1k   \n",
              "4016                      ['asymptomatic-spread']                almost-all   \n",
              "4017                         ['only-sick-spread']              three-in-ten   \n",
              "...                                           ...                       ...   \n",
              "33164                      ['infect-from-animal']             three-percent   \n",
              "33167                     ['asymptomatic-spread']                almost-all   \n",
              "33168                     ['asymptomatic-spread']            thirty-percent   \n",
              "33170                     ['asymptomatic-spread']                 one-in-1k   \n",
              "33172                     ['asymptomatic-spread']                 one-in-1k   \n",
              "\n",
              "      CoronavirusWhenShouldReopen Education_Alt2 Ethnicity  Gender  \\\n",
              "4000                         1-mo     highschool     white  female   \n",
              "4004                         3-wk     highschool     black  female   \n",
              "4012                         1-mo        college     white  female   \n",
              "4016                         2-mo       postgrad     white    male   \n",
              "4017                    immediate       postgrad     black  female   \n",
              "...                           ...            ...       ...     ...   \n",
              "33164                        1-yr   some-college     white  female   \n",
              "33167                    few-days       postgrad     black  female   \n",
              "33168                        2-wk        college     white  female   \n",
              "33170                        1-yr       postgrad     black    male   \n",
              "33172                        1-mo        college     white  female   \n",
              "\n",
              "       HasCoronavirusBelief  PoliticalBeliefsNoOp  PoliticalPartyNoOp  \\\n",
              "4000                    1.7                   5.0                 4.9   \n",
              "4004                   10.0                  10.0                 7.7   \n",
              "4012                    2.0                   1.8                 1.9   \n",
              "4016                    2.9                   6.1                 8.8   \n",
              "4017                    0.0                   7.0                 5.1   \n",
              "...                     ...                   ...                 ...   \n",
              "33164                   5.0                   6.0                10.0   \n",
              "33167                   0.0                   5.0                 0.0   \n",
              "33168                   5.2                   5.9                 5.5   \n",
              "33170                   0.5                   5.4                 5.3   \n",
              "33172                   1.3                   5.3                 7.0   \n",
              "\n",
              "               Religion_Alt1  Religiosity_Alt2  TrumpApproveNoOp  ZipCode  \\\n",
              "4000   nothing-in-particular               0.0               7.5      497   \n",
              "4004                catholic               8.8               7.9       29   \n",
              "4012                agnostic               0.0               0.0      606   \n",
              "4016   nothing-in-particular               2.9               7.0      554   \n",
              "4017                catholic              10.0               0.0      604   \n",
              "...                      ...               ...               ...      ...   \n",
              "33164       other-protestant              10.0              10.0      315   \n",
              "33167               catholic              10.0               0.0      770   \n",
              "33168               catholic               5.2               0.2      902   \n",
              "33170         something-else               7.7               0.6      441   \n",
              "33172                 mormon               7.8               3.6      840   \n",
              "\n",
              "                     startTime  \n",
              "4000   2020-04-29 19:21:22.070  \n",
              "4004   2020-04-29 19:21:41.215  \n",
              "4012   2020-04-29 19:22:08.501  \n",
              "4016   2020-04-29 19:22:33.646  \n",
              "4017   2020-04-29 19:22:34.314  \n",
              "...                        ...  \n",
              "33164  2020-06-12 01:56:14.130  \n",
              "33167  2020-06-12 01:56:25.067  \n",
              "33168  2020-06-12 01:56:36.110  \n",
              "33170  2020-06-12 01:57:02.568  \n",
              "33172  2020-06-12 03:25:30.263  \n",
              "\n",
              "[16980 rows x 28 columns]>"
            ]
          },
          "metadata": {
            "tags": []
          },
          "execution_count": 4
        }
      ]
    },
    {
      "cell_type": "code",
      "metadata": {
        "id": "gPT-UcKCPvJD"
      },
      "source": [
        "import numpy as np\n",
        "ref = ['elderly-more-risk', 'corona-all-hospitalize', 'all-spread-covid', 'asymptomatic-spread']\n",
        "puncs = '''[]','''\n",
        "\n",
        "x = []\n",
        "y = []\n",
        "\n",
        "xWhite = []\n",
        "xBlack = []\n",
        "xAsian = []\n",
        "yWhite = []\n",
        "yBlack = []\n",
        "yAsian = []\n",
        "xHispanic = []\n",
        "yHispanic = []\n",
        "xOther = []\n",
        "yOther = []\n",
        "\n",
        "xDem = []\n",
        "yDem = []\n",
        "xRep = []\n",
        "yRep = []\n",
        "xInd = []\n",
        "yInd = []\n",
        "\n",
        "for index, row in survey.iterrows():\n",
        "  cur = []\n",
        "  cur.append(-(row['BirthYear2020']-2019))\n",
        "  #cur.append(np.log(row['AnnualHouseholdIncome']))\n",
        "  cur.append(row['HasCoronavirusBelief'])\n",
        "  cur.append(row['TrumpApproveNoOp'])\n",
        "  cur.append(row['Religiosity_Alt2'])\n",
        " \n",
        "  # print(row['CoronavirusConcern2']/10, end=' ')\n",
        "  # print(row['CoronavirusIntent_Mask']/100, end=' ')\n",
        "  # print(row['CoronavirusIntent_SixFeet']/100, end=' ')\n",
        "  # print(row['CoronavirusIntent_StayHome']/100, end=' ')\n",
        "  # print(row['CoronavirusIntent_WashHands']/100, end=' ')\n",
        "\n",
        "  # CoronavirusUnderstanding\n",
        "  s = ''\n",
        "\n",
        "  items = row['CoronavirusUnderstanding1'] + ' ' + row['CoronavirusUnderstanding2'] + ' ' + row['CoronavirusUnderstanding3']\n",
        "  for c in items:\n",
        "    if c not in puncs:\n",
        "      s += c\n",
        "\n",
        "  list1 = s.split()\n",
        "  score = 0\n",
        "\n",
        "  for elem in list1:\n",
        "    if elem in ref:\n",
        "      score += 1\n",
        "  \n",
        "  falseOptions = len(list1) - score\n",
        "  score += (9 - falseOptions)\n",
        "\n",
        "  #totalScore = row['CoronavirusIntent_Mask']\n",
        "  totalScore = score + row['CoronavirusConcern2']/10 + row['CoronavirusIntent_Mask']/100 + row['CoronavirusIntent_SixFeet']/100 + row['CoronavirusIntent_StayHome']/100 + row['CoronavirusIntent_WashHands']/100\n",
        "  #totalScore = row['CoronavirusIntent_Mask']/100\n",
        "  x.append(cur)\n",
        "  y.append(totalScore)\n",
        "  if row['Ethnicity'] == \"white\":\n",
        "    yWhite.append(totalScore)\n",
        "    xWhite.append(cur)\n",
        "  elif row['Ethnicity'] == \"black\":\n",
        "    yBlack.append(totalScore)\n",
        "    xBlack.append(cur)\n",
        "  elif row['Ethnicity'] == \"asian\":\n",
        "    yAsian.append(totalScore)\n",
        "    xAsian.append(cur)\n",
        "  elif row['Ethnicity'] == 'hispanic-latino':\n",
        "    yHispanic.append(totalScore)\n",
        "    xHispanic.append(cur)\n",
        "  elif row['Ethnicity'] == 'other-mixed':\n",
        "    yOther.append(totalScore)\n",
        "    xOther.append(cur)\n",
        "  if row['PoliticalPartyNoOp'] >= 6.5:\n",
        "    yRep.append(totalScore)\n",
        "    xRep.append(cur)\n",
        "  elif row['PoliticalPartyNoOp'] <= 3.5:\n",
        "    yDem.append(totalScore)\n",
        "    xDem.append(cur)\n",
        "  else:\n",
        "    yInd.append(totalScore)\n",
        "    xInd.append(cur)"
      ],
      "execution_count": null,
      "outputs": []
    },
    {
      "cell_type": "code",
      "metadata": {
        "colab": {
          "background_save": true,
          "base_uri": "https://localhost:8080/"
        },
        "id": "gCtvXGJ-i_ht",
        "outputId": "140da256-0314-4e65-94e2-a36806c79a35"
      },
      "source": [
        "#print(x)\n",
        "#print(y)"
      ],
      "execution_count": 1,
      "outputs": []
    },
    {
      "cell_type": "code",
      "metadata": {
        "colab": {
          "background_save": true,
          "base_uri": "https://localhost:8080/"
        },
        "id": "N0Hqo_3kz21n",
        "outputId": "73afe7df-116f-4289-b9a3-b63ae7b366e5"
      },
      "source": [
        "#print(xAsian)\n",
        "#print(yAsian)"
      ],
      "execution_count": 2,
      "outputs": []
    },
    {
      "cell_type": "code",
      "metadata": {
        "colab": {
          "background_save": true,
          "base_uri": "https://localhost:8080/"
        },
        "id": "jPHjozgzF1Fh",
        "outputId": "907f95ff-09fb-4035-d71c-bf6b95c411b0"
      },
      "source": [
        "print(len(xWhite))\n",
        "print(len(yWhite))\n",
        "print()\n",
        "print(len(xBlack))\n",
        "print(len(yBlack))"
      ],
      "execution_count": null,
      "outputs": [
        {
          "output_type": "stream",
          "text": [
            "9514\n",
            "9514\n",
            "\n",
            "3582\n",
            "3582\n"
          ],
          "name": "stdout"
        }
      ]
    },
    {
      "cell_type": "code",
      "metadata": {
        "colab": {
          "background_save": true,
          "base_uri": "https://localhost:8080/"
        },
        "id": "cHtAmClSiS-R",
        "outputId": "19ec8fbe-2485-417b-abeb-34c1e6b3dbb5"
      },
      "source": [
        "#print(xDem)\n",
        "#print(yDem)"
      ],
      "execution_count": 3,
      "outputs": []
    },
    {
      "cell_type": "code",
      "metadata": {
        "colab": {
          "background_save": true,
          "base_uri": "https://localhost:8080/"
        },
        "id": "9GI1AVeDELbQ",
        "outputId": "45485b81-cd97-48f6-f522-8ff5b7fd91e8"
      },
      "source": [
        "from sklearn.linear_model import LinearRegression\n",
        "\n",
        "!pip install pingouin\n",
        "import pingouin as pg"
      ],
      "execution_count": null,
      "outputs": [
        {
          "output_type": "stream",
          "text": [
            "Requirement already satisfied: pingouin in /usr/local/lib/python3.6/dist-packages (0.3.8)\n",
            "Requirement already satisfied: tabulate in /usr/local/lib/python3.6/dist-packages (from pingouin) (0.8.7)\n",
            "Requirement already satisfied: scikit-learn in /usr/local/lib/python3.6/dist-packages (from pingouin) (0.22.2.post1)\n",
            "Requirement already satisfied: pandas-flavor>=0.1.2 in /usr/local/lib/python3.6/dist-packages (from pingouin) (0.2.0)\n",
            "Requirement already satisfied: pandas>=0.24 in /usr/local/lib/python3.6/dist-packages (from pingouin) (1.1.4)\n",
            "Requirement already satisfied: outdated in /usr/local/lib/python3.6/dist-packages (from pingouin) (0.2.0)\n",
            "Requirement already satisfied: numpy>=1.15 in /usr/local/lib/python3.6/dist-packages (from pingouin) (1.18.5)\n",
            "Requirement already satisfied: statsmodels>=0.10.0 in /usr/local/lib/python3.6/dist-packages (from pingouin) (0.10.2)\n",
            "Requirement already satisfied: scipy>=1.3 in /usr/local/lib/python3.6/dist-packages (from pingouin) (1.4.1)\n",
            "Requirement already satisfied: seaborn>=0.9.0 in /usr/local/lib/python3.6/dist-packages (from pingouin) (0.11.0)\n",
            "Requirement already satisfied: matplotlib>=3.0.2 in /usr/local/lib/python3.6/dist-packages (from pingouin) (3.2.2)\n",
            "Requirement already satisfied: joblib>=0.11 in /usr/local/lib/python3.6/dist-packages (from scikit-learn->pingouin) (0.17.0)\n",
            "Requirement already satisfied: xarray in /usr/local/lib/python3.6/dist-packages (from pandas-flavor>=0.1.2->pingouin) (0.15.1)\n",
            "Requirement already satisfied: pytz>=2017.2 in /usr/local/lib/python3.6/dist-packages (from pandas>=0.24->pingouin) (2018.9)\n",
            "Requirement already satisfied: python-dateutil>=2.7.3 in /usr/local/lib/python3.6/dist-packages (from pandas>=0.24->pingouin) (2.8.1)\n",
            "Requirement already satisfied: littleutils in /usr/local/lib/python3.6/dist-packages (from outdated->pingouin) (0.2.2)\n",
            "Requirement already satisfied: requests in /usr/local/lib/python3.6/dist-packages (from outdated->pingouin) (2.23.0)\n",
            "Requirement already satisfied: patsy>=0.4.0 in /usr/local/lib/python3.6/dist-packages (from statsmodels>=0.10.0->pingouin) (0.5.1)\n",
            "Requirement already satisfied: pyparsing!=2.0.4,!=2.1.2,!=2.1.6,>=2.0.1 in /usr/local/lib/python3.6/dist-packages (from matplotlib>=3.0.2->pingouin) (2.4.7)\n",
            "Requirement already satisfied: cycler>=0.10 in /usr/local/lib/python3.6/dist-packages (from matplotlib>=3.0.2->pingouin) (0.10.0)\n",
            "Requirement already satisfied: kiwisolver>=1.0.1 in /usr/local/lib/python3.6/dist-packages (from matplotlib>=3.0.2->pingouin) (1.3.1)\n",
            "Requirement already satisfied: setuptools>=41.2 in /usr/local/lib/python3.6/dist-packages (from xarray->pandas-flavor>=0.1.2->pingouin) (50.3.2)\n",
            "Requirement already satisfied: six>=1.5 in /usr/local/lib/python3.6/dist-packages (from python-dateutil>=2.7.3->pandas>=0.24->pingouin) (1.15.0)\n",
            "Requirement already satisfied: urllib3!=1.25.0,!=1.25.1,<1.26,>=1.21.1 in /usr/local/lib/python3.6/dist-packages (from requests->outdated->pingouin) (1.24.3)\n",
            "Requirement already satisfied: chardet<4,>=3.0.2 in /usr/local/lib/python3.6/dist-packages (from requests->outdated->pingouin) (3.0.4)\n",
            "Requirement already satisfied: certifi>=2017.4.17 in /usr/local/lib/python3.6/dist-packages (from requests->outdated->pingouin) (2020.6.20)\n",
            "Requirement already satisfied: idna<3,>=2.5 in /usr/local/lib/python3.6/dist-packages (from requests->outdated->pingouin) (2.10)\n"
          ],
          "name": "stdout"
        }
      ]
    },
    {
      "cell_type": "code",
      "metadata": {
        "colab": {
          "base_uri": "https://localhost:8080/"
        },
        "id": "wI6LkIu1jEJN",
        "outputId": "f62424f8-ccb7-4c88-caee-effca6d12783"
      },
      "source": [
        "lm = pg.linear_regression(x, y)\n",
        "print(lm)\n",
        "print()\n",
        "print(\"Size of data: \" + str(len(y)))"
      ],
      "execution_count": null,
      "outputs": [
        {
          "output_type": "stream",
          "text": [
            "       names       coef        se           T           pval       r2  \\\n",
            "0  Intercept  12.422064  0.064166  193.593260   0.000000e+00  0.19601   \n",
            "1         x1   0.071849  0.001346   53.361072   0.000000e+00  0.19601   \n",
            "2         x2  -0.119482  0.007698  -15.521286   5.848004e-54  0.19601   \n",
            "3         x3  -0.169617  0.005799  -29.248530  1.625565e-183  0.19601   \n",
            "4         x4   0.017773  0.006460    2.751132   5.945272e-03  0.19601   \n",
            "\n",
            "    adj_r2   CI[2.5%]  CI[97.5%]  \n",
            "0  0.19582  12.296292  12.547835  \n",
            "1  0.19582   0.069209   0.074488  \n",
            "2  0.19582  -0.134571  -0.104393  \n",
            "3  0.19582  -0.180984  -0.158250  \n",
            "4  0.19582   0.005110   0.030436  \n",
            "\n",
            "Size of data: 16980\n"
          ],
          "name": "stdout"
        }
      ]
    },
    {
      "cell_type": "code",
      "metadata": {
        "colab": {
          "base_uri": "https://localhost:8080/"
        },
        "id": "U24q8tDMRAKI",
        "outputId": "71d7d1da-46ef-44f1-a8e9-8ef6d7b4d5e1"
      },
      "source": [
        "lm = pg.linear_regression(xWhite, yWhite)\n",
        "print(lm)\n",
        "print()\n",
        "print(\"Size of data: \" + str(len(yWhite)))"
      ],
      "execution_count": null,
      "outputs": [
        {
          "output_type": "stream",
          "text": [
            "       names       coef        se           T           pval        r2  \\\n",
            "0  Intercept  13.792169  0.082557  167.062294   0.000000e+00  0.166938   \n",
            "1         x1   0.053225  0.001665   31.965987  4.610898e-213  0.166938   \n",
            "2         x2  -0.094129  0.010955   -8.592005   9.893739e-18  0.166938   \n",
            "3         x3  -0.194940  0.007175  -27.168467  1.312657e-156  0.166938   \n",
            "4         x4  -0.004481  0.008057   -0.556097   5.781579e-01  0.166938   \n",
            "\n",
            "     adj_r2   CI[2.5%]  CI[97.5%]  \n",
            "0  0.166588  13.630340  13.953999  \n",
            "1  0.166588   0.049961   0.056489  \n",
            "2  0.166588  -0.115604  -0.072654  \n",
            "3  0.166588  -0.209005  -0.180875  \n",
            "4  0.166588  -0.020274   0.011313  \n",
            "\n",
            "Size of data: 9514\n"
          ],
          "name": "stdout"
        }
      ]
    },
    {
      "cell_type": "code",
      "metadata": {
        "colab": {
          "base_uri": "https://localhost:8080/"
        },
        "id": "yzcFwZdMxvGT",
        "outputId": "1b88b2c4-635f-4211-9f87-8c02a693f17a"
      },
      "source": [
        "lm = pg.linear_regression(xBlack, yBlack)\n",
        "print(lm)\n",
        "print()\n",
        "print(\"Size of data: \" + str(len(yBlack)))"
      ],
      "execution_count": null,
      "outputs": [
        {
          "output_type": "stream",
          "text": [
            "       names       coef        se          T           pval       r2  \\\n",
            "0  Intercept  10.036839  0.141847  70.758233   0.000000e+00  0.26365   \n",
            "1         x1   0.081763  0.003421  23.901566  2.921397e-117  0.26365   \n",
            "2         x2  -0.097163  0.014940  -6.503350   8.944303e-11  0.26365   \n",
            "3         x3  -0.172659  0.014096 -12.248916   8.030595e-34  0.26365   \n",
            "4         x4   0.201454  0.014652  13.749275   5.894523e-42  0.26365   \n",
            "\n",
            "     adj_r2  CI[2.5%]  CI[97.5%]  \n",
            "0  0.262826  9.758730  10.314948  \n",
            "1  0.262826  0.075056   0.088470  \n",
            "2  0.262826 -0.126455  -0.067870  \n",
            "3  0.262826 -0.200295  -0.145022  \n",
            "4  0.262826  0.172727   0.230181  \n",
            "\n",
            "Size of data: 3582\n"
          ],
          "name": "stdout"
        }
      ]
    },
    {
      "cell_type": "code",
      "metadata": {
        "colab": {
          "base_uri": "https://localhost:8080/"
        },
        "id": "lmFEEv3y0U8K",
        "outputId": "a04d9961-3e53-418c-d5e2-b723b779e421"
      },
      "source": [
        "lm = pg.linear_regression(xAsian, yAsian)\n",
        "print(lm)\n",
        "print()\n",
        "print(\"Size of data: \" + str(len(yAsian)))"
      ],
      "execution_count": null,
      "outputs": [
        {
          "output_type": "stream",
          "text": [
            "       names       coef        se          T           pval       r2  \\\n",
            "0  Intercept  13.844358  0.312014  44.370893  1.860913e-218  0.17004   \n",
            "1         x1   0.043252  0.007449   5.806738   9.165190e-09  0.17004   \n",
            "2         x2  -0.167321  0.031790  -5.263401   1.815242e-07  0.17004   \n",
            "3         x3  -0.244022  0.028666  -8.512664   8.268507e-17  0.17004   \n",
            "4         x4   0.005079  0.030528   0.166376   8.679030e-01  0.17004   \n",
            "\n",
            "     adj_r2   CI[2.5%]  CI[97.5%]  \n",
            "0  0.165916  13.231900  14.456816  \n",
            "1  0.165916   0.028631   0.057872  \n",
            "2  0.165916  -0.229721  -0.104921  \n",
            "3  0.165916  -0.300291  -0.187754  \n",
            "4  0.165916  -0.054845   0.065003  \n",
            "\n",
            "Size of data: 810\n"
          ],
          "name": "stdout"
        }
      ]
    },
    {
      "cell_type": "code",
      "metadata": {
        "colab": {
          "base_uri": "https://localhost:8080/"
        },
        "id": "CUereL1tnt5A",
        "outputId": "b60977ca-bf98-4aed-e22a-84a71f694389"
      },
      "source": [
        "lm = pg.linear_regression(xHispanic, yHispanic)\n",
        "print(lm)\n",
        "print()\n",
        "print(\"Size of data: \" + str(len(yHispanic)))"
      ],
      "execution_count": null,
      "outputs": [
        {
          "output_type": "stream",
          "text": [
            "       names       coef        se          T          pval        r2  \\\n",
            "0  Intercept  12.037992  0.196374  61.301428  0.000000e+00  0.164681   \n",
            "1         x1   0.064167  0.004952  12.957445  5.349954e-37  0.164681   \n",
            "2         x2  -0.128055  0.020534  -6.236380  5.397776e-10  0.164681   \n",
            "3         x3  -0.217925  0.018926 -11.514335  8.566804e-30  0.164681   \n",
            "4         x4   0.095159  0.020569   4.626357  3.948090e-06  0.164681   \n",
            "\n",
            "     adj_r2   CI[2.5%]  CI[97.5%]  \n",
            "0  0.163092  11.652885  12.423099  \n",
            "1  0.163092   0.054456   0.073879  \n",
            "2  0.163092  -0.168323  -0.087787  \n",
            "3  0.163092  -0.255041  -0.180808  \n",
            "4  0.163092   0.054821   0.135496  \n",
            "\n",
            "Size of data: 2107\n"
          ],
          "name": "stdout"
        }
      ]
    },
    {
      "cell_type": "code",
      "metadata": {
        "colab": {
          "base_uri": "https://localhost:8080/"
        },
        "id": "CblHBS5_2n3Z",
        "outputId": "cb2d232e-9b88-41de-bda8-2eb409bb9ff6"
      },
      "source": [
        "lm = pg.linear_regression(xOther, yOther)\n",
        "print(lm)\n",
        "print()\n",
        "print(\"Size of data: \" + str(len(yOther)))"
      ],
      "execution_count": null,
      "outputs": [
        {
          "output_type": "stream",
          "text": [
            "       names       coef        se          T           pval        r2  \\\n",
            "0  Intercept  11.849838  0.290099  40.847588  2.374660e-212  0.106728   \n",
            "1         x1   0.048142  0.006471   7.439236   2.241232e-13  0.106728   \n",
            "2         x2  -0.093955  0.035439  -2.651136   8.154015e-03  0.106728   \n",
            "3         x3  -0.175858  0.029431  -5.975293   3.231107e-09  0.106728   \n",
            "4         x4   0.129476  0.030282   4.275710   2.095181e-05  0.106728   \n",
            "\n",
            "     adj_r2   CI[2.5%]  CI[97.5%]  \n",
            "0  0.103014  11.280538  12.419137  \n",
            "1  0.103014   0.035442   0.060842  \n",
            "2  0.103014  -0.163502  -0.024407  \n",
            "3  0.103014  -0.233615  -0.118102  \n",
            "4  0.103014   0.070050   0.188902  \n",
            "\n",
            "Size of data: 967\n"
          ],
          "name": "stdout"
        }
      ]
    },
    {
      "cell_type": "code",
      "metadata": {
        "colab": {
          "base_uri": "https://localhost:8080/"
        },
        "id": "uag-YIcK2oI5",
        "outputId": "575ea49c-318e-487d-fbf1-b1ea4becd505"
      },
      "source": [
        "lm = pg.linear_regression(xDem, yDem)\n",
        "print(lm)\n",
        "print()\n",
        "print(\"Size of data: \" + str(len(yDem)))"
      ],
      "execution_count": null,
      "outputs": [
        {
          "output_type": "stream",
          "text": [
            "       names       coef        se           T           pval        r2  \\\n",
            "0  Intercept  12.851671  0.115746  111.033393   0.000000e+00  0.197273   \n",
            "1         x1   0.066093  0.002537   26.051601  1.357740e-140  0.197273   \n",
            "2         x2  -0.039909  0.016290   -2.449936   1.432146e-02  0.197273   \n",
            "3         x3  -0.289875  0.015269  -18.984268   1.028699e-77  0.197273   \n",
            "4         x4   0.010496  0.011146    0.941626   3.464285e-01  0.197273   \n",
            "\n",
            "     adj_r2   CI[2.5%]  CI[97.5%]  \n",
            "0  0.196645  12.624759  13.078583  \n",
            "1  0.196645   0.061119   0.071066  \n",
            "2  0.196645  -0.071844  -0.007974  \n",
            "3  0.196645  -0.319809  -0.259941  \n",
            "4  0.196645  -0.011356   0.032347  \n",
            "\n",
            "Size of data: 5117\n"
          ],
          "name": "stdout"
        }
      ]
    },
    {
      "cell_type": "code",
      "metadata": {
        "colab": {
          "base_uri": "https://localhost:8080/"
        },
        "id": "ku53L-f7ia8g",
        "outputId": "6aabb889-4832-45dd-8409-a0342df15d34"
      },
      "source": [
        "lm = pg.linear_regression(xRep, yRep)\n",
        "print(lm)\n",
        "print()\n",
        "print(\"Size of data: \" + str(len(yRep)))"
      ],
      "execution_count": null,
      "outputs": [
        {
          "output_type": "stream",
          "text": [
            "       names       coef        se          T           pval        r2  \\\n",
            "0  Intercept  11.019274  0.139177  79.174777   0.000000e+00  0.203969   \n",
            "1         x1   0.063226  0.002305  27.433382  3.208944e-154  0.203969   \n",
            "2         x2  -0.137239  0.010993 -12.484641   3.110006e-35  0.203969   \n",
            "3         x3   0.000109  0.011803   0.009256   9.926150e-01  0.203969   \n",
            "4         x4   0.076933  0.012817   6.002475   2.083784e-09  0.203969   \n",
            "\n",
            "     adj_r2   CI[2.5%]  CI[97.5%]  \n",
            "0  0.203316  10.746425  11.292123  \n",
            "1  0.203316   0.058707   0.067744  \n",
            "2  0.203316  -0.158789  -0.115688  \n",
            "3  0.203316  -0.023030   0.023248  \n",
            "4  0.203316   0.051806   0.102059  \n",
            "\n",
            "Size of data: 4887\n"
          ],
          "name": "stdout"
        }
      ]
    },
    {
      "cell_type": "code",
      "metadata": {
        "id": "r1aijs4_TnYM"
      },
      "source": [
        "lm = pg.linear_regression(xInd, yInd)\n",
        "print(lm)\n",
        "print()\n",
        "print(\"Size of data: \" + str(len(yInd)))"
      ],
      "execution_count": null,
      "outputs": []
    },
    {
      "cell_type": "code",
      "metadata": {
        "id": "zlraEXu-iXHV"
      },
      "source": [
        ""
      ],
      "execution_count": null,
      "outputs": []
    },
    {
      "cell_type": "code",
      "metadata": {
        "id": "U17W_aMW8Yqu"
      },
      "source": [
        ""
      ],
      "execution_count": null,
      "outputs": []
    },
    {
      "cell_type": "code",
      "metadata": {
        "colab": {
          "base_uri": "https://localhost:8080/"
        },
        "id": "xuX8tcRR8YoS",
        "outputId": "84e0ccbb-91c3-4fa6-ac50-4ca87cc11204"
      },
      "source": [
        "x = np.arange(5, 95, 10)\n",
        "print(x)"
      ],
      "execution_count": null,
      "outputs": [
        {
          "output_type": "stream",
          "text": [
            "[ 5 15 25 35 45 55 65 75 85]\n"
          ],
          "name": "stdout"
        }
      ]
    },
    {
      "cell_type": "code",
      "metadata": {
        "colab": {
          "base_uri": "https://localhost:8080/"
        },
        "id": "fW2-aq7H8djv",
        "outputId": "d889872b-68c6-40c9-c2ae-13557a85f26a"
      },
      "source": [
        "yCovidDeath = np.array([49980, 438, 23283,183880,144085,132457, 125256, 120766, 114101])\n",
        "print(yCovidDeath)"
      ],
      "execution_count": null,
      "outputs": [
        {
          "output_type": "stream",
          "text": [
            "[ 49980    438  23283 183880 144085 132457 125256 120766 114101]\n"
          ],
          "name": "stdout"
        }
      ]
    },
    {
      "cell_type": "code",
      "metadata": {
        "colab": {
          "base_uri": "https://localhost:8080/"
        },
        "id": "8Wtc911d8r3H",
        "outputId": "78e9b9c7-c056-4a77-fb8a-a7e8584baece"
      },
      "source": [
        "yPercentCovidDeath = np.array([7.09, 0.06, 2.40, 18.76, 13.15,10.49, 10.23,8.37,8.80])\n",
        "print(yPercentCovidDeath)"
      ],
      "execution_count": null,
      "outputs": [
        {
          "output_type": "stream",
          "text": [
            "[ 7.09  0.06  2.4  18.76 13.15 10.49 10.23  8.37  8.8 ]\n"
          ],
          "name": "stdout"
        }
      ]
    },
    {
      "cell_type": "code",
      "metadata": {
        "colab": {
          "base_uri": "https://localhost:8080/"
        },
        "id": "2yPisy0Y9CAp",
        "outputId": "982afef7-d76f-4e79-f9f1-5c9713bc8394"
      },
      "source": [
        "lm = pg.linear_regression(x, yCovidDeath)\n",
        "print(lm)"
      ],
      "execution_count": null,
      "outputs": [
        {
          "output_type": "stream",
          "text": [
            "       names          coef            se         T      pval        r2  \\\n",
            "0  Intercept  41611.341667  35546.115490  1.170630  0.280052  0.333865   \n",
            "1         x1   1283.318333    685.143449  1.873065  0.103212  0.333865   \n",
            "\n",
            "     adj_r2      CI[2.5%]      CI[97.5%]  \n",
            "0  0.238702 -42441.865051  125664.548384  \n",
            "1  0.238702   -336.788481    2903.425148  \n"
          ],
          "name": "stdout"
        }
      ]
    },
    {
      "cell_type": "code",
      "metadata": {
        "colab": {
          "base_uri": "https://localhost:8080/"
        },
        "id": "DPGr3kWm9HYB",
        "outputId": "e50deb01-38fe-4903-fddc-b74f2af8d858"
      },
      "source": [
        "lm = pg.linear_regression(x, yPercentCovidDeath)\n",
        "print(lm)"
      ],
      "execution_count": null,
      "outputs": [
        {
          "output_type": "stream",
          "text": [
            "       names      coef        se         T      pval        r2    adj_r2  \\\n",
            "0  Intercept  5.879667  3.737105  1.573321  0.159643  0.104972 -0.022889   \n",
            "1         x1  0.065267  0.072032  0.906080  0.395011  0.104972 -0.022889   \n",
            "\n",
            "   CI[2.5%]  CI[97.5%]  \n",
            "0 -2.957183  14.716516  \n",
            "1 -0.105062   0.235595  \n"
          ],
          "name": "stdout"
        }
      ]
    },
    {
      "cell_type": "code",
      "metadata": {
        "id": "D9fOEeOm9MFH"
      },
      "source": [
        ""
      ],
      "execution_count": null,
      "outputs": []
    }
  ]
}